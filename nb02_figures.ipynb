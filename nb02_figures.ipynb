{
 "cells": [
  {
   "cell_type": "code",
   "execution_count": 1,
   "metadata": {},
   "outputs": [],
   "source": [
    "import math\n",
    "import os\n",
    "from pathlib import Path\n",
    "from glob import glob\n",
    "from PIL import Image"
   ]
  },
  {
   "cell_type": "code",
   "execution_count": 2,
   "metadata": {},
   "outputs": [],
   "source": [
    "def combine_horizontally(image_paths, output_path):\n",
    "    images = list(map(Image.open, image_paths))\n",
    "    widths, heights = zip(*(i.size for i in images))\n",
    "    total_width = sum(widths) + len(widths) + 2\n",
    "    max_height = max(heights) + 2\n",
    "    \n",
    "    new_im = Image.new('RGB', (total_width, max_height))\n",
    "    x_offset = 1\n",
    "    for im in images:\n",
    "        new_im.paste(im, (x_offset,1))\n",
    "        x_offset += im.size[0]+1\n",
    "    new_im.save(output_path)"
   ]
  },
  {
   "cell_type": "code",
   "execution_count": 3,
   "metadata": {},
   "outputs": [],
   "source": [
    "combine_horizontally(glob('images/*.jpg'), 'figures/original.jpg')"
   ]
  },
  {
   "cell_type": "code",
   "execution_count": 4,
   "metadata": {},
   "outputs": [],
   "source": [
    "combine_horizontally(glob('vis/*block3_conv3_filter20.jpg'), 'figures/filter20.jpg')"
   ]
  }
 ],
 "metadata": {
  "kernelspec": {
   "display_name": "Python 3",
   "language": "python",
   "name": "python3"
  },
  "language_info": {
   "codemirror_mode": {
    "name": "ipython",
    "version": 3
   },
   "file_extension": ".py",
   "mimetype": "text/x-python",
   "name": "python",
   "nbconvert_exporter": "python",
   "pygments_lexer": "ipython3",
   "version": "3.6.8"
  }
 },
 "nbformat": 4,
 "nbformat_minor": 2
}
